{
 "cells": [
  {
   "cell_type": "code",
   "execution_count": 33,
   "metadata": {},
   "outputs": [],
   "source": [
    "import simpy\n",
    "import numpy as np\n",
    "import random\n",
    "import re"
   ]
  },
  {
   "cell_type": "code",
   "execution_count": 121,
   "metadata": {},
   "outputs": [
    {
     "name": "stdout",
     "output_type": "stream",
     "text": [
      "Amount of counters: 1\n",
      "Load on machines: 0.9803921568627451\n",
      "Average wait time per person: 687.036467268177\n",
      "Amount of counters: 2\n",
      "Load on machines: 0.9803921568627451\n",
      "Average wait time per person: 584.9277877755459\n",
      "Amount of counters: 4\n",
      "Load on machines: 0.9803921568627451\n",
      "Average wait time per person: 126.91645645905506\n"
     ]
    }
   ],
   "source": [
    "RANDOM_SEED = 112\n",
    "NEW_CUSTOMERS = 500  # Total number of customers\n",
    "CAPACITY = 51\n",
    "wait_times = np.zeros(NEW_CUSTOMERS)\n",
    "\n",
    "def source(env, number, interval, counter, time_needed):\n",
    "    \"\"\"Source generates customers randomly\"\"\"\n",
    "    for i in range(number):\n",
    "        c = customer(env, f'Customer{i:2d}', counter, time_in_bank=time_needed)\n",
    "        env.process(c)\n",
    "        t = random.expovariate(1 / interval)\n",
    "        yield env.timeout(t)\n",
    "\n",
    "\n",
    "def customer(env, name, counter, time_in_bank):\n",
    "    \"\"\"Customer arrives, is served and leaves.\"\"\"\n",
    "    arrive = env.now\n",
    "    with counter.request() as req:\n",
    "        # Wait for the counter\n",
    "        yield req\n",
    "        start_time = env.now\n",
    "#         print(f'start time:{start_time}')\n",
    "#         print(f'arrive : {arrive}')\n",
    "        wait = env.now - arrive\n",
    "\n",
    "        # We got to the counter\n",
    "\n",
    "        tib = random.expovariate(1.0 / time_in_bank)\n",
    "        yield env.timeout(tib)\n",
    "#         print(f'time busy: {env.now - start_time}')\n",
    "    number = re.findall(\"\\d+\", name)[0]\n",
    "#     print(f'wait time: {wait}')\n",
    "    wait_times[int(number)] = wait\n",
    "    \n",
    "# Setup and start the simulation\n",
    "random.seed(RANDOM_SEED)\n",
    "env = simpy.Environment()\n",
    "\n",
    "# Start processes and run for N=1\n",
    "N = 1 # Amount of queues\n",
    "ARRIVAL_RATE = 50/N  # Generate new customers roughly every x seconds\n",
    "counter = simpy.Resource(env, capacity=N)\n",
    "env.process(source(env, NEW_CUSTOMERS, ARRIVAL_RATE, counter, CAPACITY))\n",
    "env.run()\n",
    "load = N * (ARRIVAL_RATE / CAPACITY)\n",
    "print(f\"Amount of counters: {N}\")\n",
    "print(f\"Load on machines: {load}\")\n",
    "print(f'Average wait time per person: {np.sum(wait_times)/NEW_CUSTOMERS}')\n",
    "\n",
    "\n",
    "# Setup and start the simulation\n",
    "random.seed(RANDOM_SEED)\n",
    "env = simpy.Environment()\n",
    "# Start processes and run for N=2\n",
    "N = 2 # Amount of queues\n",
    "ARRIVAL_RATE = 50/N  # Generate new customers roughly every x seconds\n",
    "counter = simpy.Resource(env, capacity=N)\n",
    "env.process(source(env, NEW_CUSTOMERS, ARRIVAL_RATE, counter, CAPACITY))\n",
    "env.run()\n",
    "load = N * (ARRIVAL_RATE / CAPACITY)\n",
    "print(f\"Amount of counters: {N}\")\n",
    "print(f\"Load on machines: {load}\")\n",
    "print(f'Average wait time per person: {np.sum(wait_times)/NEW_CUSTOMERS}')\n",
    "\n",
    "\n",
    "# Setup and start the simulation\n",
    "random.seed(RANDOM_SEED)\n",
    "env = simpy.Environment()\n",
    "# Start processes and run for N=4\n",
    "N = 4 # Amount of queues\n",
    "ARRIVAL_RATE = 50/N  # Generate new customers roughly every x seconds\n",
    "counter = simpy.Resource(env, capacity=N)\n",
    "env.process(source(env, NEW_CUSTOMERS, ARRIVAL_RATE, counter, CAPACITY))\n",
    "env.run()\n",
    "load = N * (ARRIVAL_RATE / CAPACITY)\n",
    "print(f\"Amount of counters: {N}\")\n",
    "print(f\"Load on machines: {load}\")\n",
    "print(f'Average wait time per person: {np.sum(wait_times)/NEW_CUSTOMERS}')"
   ]
  },
  {
   "cell_type": "code",
   "execution_count": null,
   "metadata": {},
   "outputs": [],
   "source": []
  },
  {
   "cell_type": "code",
   "execution_count": null,
   "metadata": {},
   "outputs": [],
   "source": []
  }
 ],
 "metadata": {
  "kernelspec": {
   "display_name": "Python 3",
   "language": "python",
   "name": "python3"
  },
  "language_info": {
   "codemirror_mode": {
    "name": "ipython",
    "version": 3
   },
   "file_extension": ".py",
   "mimetype": "text/x-python",
   "name": "python",
   "nbconvert_exporter": "python",
   "pygments_lexer": "ipython3",
   "version": "3.7.6"
  }
 },
 "nbformat": 4,
 "nbformat_minor": 4
}
